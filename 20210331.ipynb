{
  "nbformat": 4,
  "nbformat_minor": 0,
  "metadata": {
    "colab": {
      "name": "Untitled4.ipynb",
      "provenance": [],
      "collapsed_sections": [],
      "authorship_tag": "ABX9TyNT55T9ThEv+SpLKDOAiSfT",
      "include_colab_link": true
    },
    "kernelspec": {
      "name": "python3",
      "display_name": "Python 3"
    },
    "language_info": {
      "name": "python"
    }
  },
  "cells": [
    {
      "cell_type": "markdown",
      "metadata": {
        "id": "view-in-github",
        "colab_type": "text"
      },
      "source": [
        "<a href=\"https://colab.research.google.com/github/ghkd2008/class2021Spring/blob/main/20210331.ipynb\" target=\"_parent\"><img src=\"https://colab.research.google.com/assets/colab-badge.svg\" alt=\"Open In Colab\"/></a>"
      ]
    },
    {
      "cell_type": "markdown",
      "metadata": {
        "id": "uJOEQu6B5Qqo"
      },
      "source": [
        "1.'아' sound\n",
        "\n",
        "Duration: 0.50664 sec \\\n",
        "Pitch: 112.5Hz \\\n",
        "Intensity: 63.55dB \\\n",
        "f1: 632Hz \\\n",
        "f2: 1142Hz \\\n",
        "\n",
        "\n",
        "\n",
        "2.'애' sound\n",
        "\n",
        "Duration: 0.482013 sec \\\n",
        "Pitch: 110.5Hz \\\n",
        "Intensity: 66.85dB \\\n",
        "f1: 469Hz \\\n",
        "f2: 1760Hz \\\n",
        "\n",
        "\n"
      ]
    }
  ]
}