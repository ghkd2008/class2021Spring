{
  "nbformat": 4,
  "nbformat_minor": 0,
  "metadata": {
    "colab": {
      "name": "Untitled2.ipynb",
      "provenance": [],
      "collapsed_sections": [],
      "authorship_tag": "ABX9TyO20oZbhaHMlKKUZp+i37WO",
      "include_colab_link": true
    },
    "kernelspec": {
      "name": "python3",
      "display_name": "Python 3"
    }
  },
  "cells": [
    {
      "cell_type": "markdown",
      "metadata": {
        "id": "view-in-github",
        "colab_type": "text"
      },
      "source": [
        "<a href=\"https://colab.research.google.com/github/ghkd2008/class2021Spring/blob/main/Programming.ipynb\" target=\"_parent\"><img src=\"https://colab.research.google.com/assets/colab-badge.svg\" alt=\"Open In Colab\"/></a>"
      ]
    },
    {
      "cell_type": "markdown",
      "metadata": {
        "id": "kLVZNqGFo9TI"
      },
      "source": [
        "#컴퓨터 언어\r\n",
        "\r\n",
        "1.변수\r\n",
        "\r\n",
        "변수란 내용을 assign해주는 것.\r\n",
        "예를 들어 a = 1이라면\r\n",
        "a라는 변수에다가 1이라는 값을 assign해주는 것\r\n",
        "\r\n",
        "2.제어문\r\n",
        "\r\n",
        "일종의 문법. \r\n",
        "for나 if문을 예로 들 수 있으며, 이를 사용하여 프로그래밍의 수행가능케 함.\r\n",
        "\r\n",
        "3.함수 \r\n",
        "\r\n",
        "함수는 입출력관계!\r\n",
        "입력이 들어와서 출력을 할 때, 중간에 변화가 있다면, 그것이 함수가 하는 일.\r\n",
        "y = f(x)에서\r\n",
        "x는 input, y는 output.\r\n",
        "세상의 모든 것은 마치 함수처럼 되어있음\r\n",
        "인간의 몸도 그러하다.\r\n",
        "\r\n",
        "따라서 자주 쓰는 연산(?)들은 함수로 지정하여 사용 가능.\r\n",
        "\r\n",
        "function add(a,b)\r\n",
        "\tc = a+b\r\n",
        "c\r\n",
        "해놓으면\r\n",
        "\r\n",
        "add(1,2)하면 3이 나옴\r\n",
        "\r\n"
      ]
    }
  ]
}
