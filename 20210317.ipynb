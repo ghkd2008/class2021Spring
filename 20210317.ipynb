{
  "nbformat": 4,
  "nbformat_minor": 0,
  "metadata": {
    "colab": {
      "name": "Colaboratory에 오신 것을 환영합니다의 사본",
      "provenance": [],
      "collapsed_sections": [],
      "include_colab_link": true
    },
    "kernelspec": {
      "display_name": "Python 3",
      "name": "python3"
    }
  },
  "cells": [
    {
      "cell_type": "markdown",
      "metadata": {
        "id": "view-in-github",
        "colab_type": "text"
      },
      "source": [
        "<a href=\"https://colab.research.google.com/github/ghkd2008/class2021Spring/blob/main/20210317.ipynb\" target=\"_parent\"><img src=\"https://colab.research.google.com/assets/colab-badge.svg\" alt=\"Open In Colab\"/></a>"
      ]
    },
    {
      "cell_type": "markdown",
      "metadata": {
        "id": "DxrNTF-QuZzZ"
      },
      "source": [
        "1.이중 for문 실습"
      ]
    },
    {
      "cell_type": "code",
      "metadata": {
        "colab": {
          "base_uri": "https://localhost:8080/"
        },
        "id": "3pIbX7SBuQq6",
        "outputId": "61f0fbd5-172d-4ae9-8b64-962037f4fbe5"
      },
      "source": [
        "for i in range(1,8,2):   #i는 1,3,5,7\r\n",
        "  for j in range(5):     #j는 0,1,2,3,4  \r\n",
        "    if j>=2:             #j는 2이상일 때, 아래 명령이 실행되므로\r\n",
        "      print(i*j)         #1*2,1*3,1*4, 3*2,3*3,3*4, 5*2,5*3,5*4, 7*2,7*3,7*4\r\n",
        "      "
      ],
      "execution_count": null,
      "outputs": [
        {
          "output_type": "stream",
          "text": [
            "2\n",
            "3\n",
            "4\n",
            "6\n",
            "9\n",
            "12\n",
            "10\n",
            "15\n",
            "20\n",
            "14\n",
            "21\n",
            "28\n"
          ],
          "name": "stdout"
        }
      ]
    },
    {
      "cell_type": "markdown",
      "metadata": {
        "id": "UvtBep7Bud-R"
      },
      "source": [
        "2.Loop list"
      ]
    },
    {
      "cell_type": "code",
      "metadata": {
        "colab": {
          "base_uri": "https://localhost:8080/"
        },
        "id": "evCQKbp7uhx4",
        "outputId": "e93af3ad-88c6-4a52-f95e-5b7b1fa7301f"
      },
      "source": [
        "a = ['korea', 'japan', 'usa', 'france' ,'china', 'indonesia']\r\n",
        "b = [i for i in a if len(i)>= 4]\r\n",
        "print(b)"
      ],
      "execution_count": null,
      "outputs": [
        {
          "output_type": "stream",
          "text": [
            "['korea', 'japan', 'france', 'china', 'indonesia']\n"
          ],
          "name": "stdout"
        }
      ]
    }
  ]
}