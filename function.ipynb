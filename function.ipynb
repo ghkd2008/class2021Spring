{
  "nbformat": 4,
  "nbformat_minor": 0,
  "metadata": {
    "colab": {
      "name": "function.ipynb의 사본",
      "provenance": [],
      "include_colab_link": true
    },
    "kernelspec": {
      "name": "python3",
      "display_name": "Python 3"
    }
  },
  "cells": [
    {
      "cell_type": "markdown",
      "metadata": {
        "id": "view-in-github",
        "colab_type": "text"
      },
      "source": [
        "<a href=\"https://colab.research.google.com/github/ghkd2008/class2021Spring/blob/main/function.ipynb\" target=\"_parent\"><img src=\"https://colab.research.google.com/assets/colab-badge.svg\" alt=\"Open In Colab\"/></a>"
      ]
    },
    {
      "cell_type": "markdown",
      "metadata": {
        "id": "EQMaiU26UhLW"
      },
      "source": [
        "#함수\n",
        "def 뒤에 함수명 이후에 변수로 받을 것만큼. "
      ]
    },
    {
      "cell_type": "code",
      "metadata": {
        "id": "hpc_mhgAye2S"
      },
      "source": [
        "def add(a,b):     #a와 b 두개를 입력으로 받는 함수. \n",
        "  return a+b      #return 뒤가 출력\n",
        "\n",
        "def subtract(a,b):\n",
        "  return a-b\n",
        "\n",
        "def multiply(a,b):\n",
        "  return a*b\n",
        "\n",
        "def divide(a,b):\n",
        "  return a/b"
      ],
      "execution_count": null,
      "outputs": []
    },
    {
      "cell_type": "code",
      "metadata": {
        "colab": {
          "base_uri": "https://localhost:8080/"
        },
        "id": "8Y4oa05Eykn4",
        "outputId": "7e186590-61dc-49a9-e22f-0bcb617fd3b7"
      },
      "source": [
        "c = add(1,2); print(c)\n",
        "c = subtract(1,2); print(c)\n",
        "c = multiply(1,2); print(c)\n",
        "c = divide(1,2); print(c)"
      ],
      "execution_count": null,
      "outputs": [
        {
          "output_type": "stream",
          "text": [
            "3\n",
            "-1\n",
            "2\n",
            "0.5\n"
          ],
          "name": "stdout"
        }
      ]
    },
    {
      "cell_type": "code",
      "metadata": {
        "id": "CYMSK82qVKhy",
        "colab": {
          "base_uri": "https://localhost:8080/"
        },
        "outputId": "a7ee08fc-843b-4835-e78d-a71f069de8f7"
      },
      "source": [
        "def func1(x,a,b):\n",
        "  y = a*x+b\n",
        "  return y\n",
        "\n",
        "func1(2,2,3)"
      ],
      "execution_count": null,
      "outputs": [
        {
          "output_type": "execute_result",
          "data": {
            "text/plain": [
              "7"
            ]
          },
          "metadata": {
            "tags": []
          },
          "execution_count": 3
        }
      ]
    },
    {
      "cell_type": "markdown",
      "metadata": {
        "id": "tXMX0RcNV0Sn"
      },
      "source": [
        "만약 함수에서 출력이 없다면. 예를들어\n"
      ]
    },
    {
      "cell_type": "code",
      "metadata": {
        "id": "Vwh1PoBGWCUo",
        "colab": {
          "base_uri": "https://localhost:8080/"
        },
        "outputId": "6edaef19-71f4-4edc-b7d2-a5cb7279e191"
      },
      "source": [
        "def add(a,b):\n",
        "  c = a+b\n",
        "\n",
        "print(add(1,2))\n",
        "\n",
        "#여전히 작동은 함.\n",
        "입력이 없어도 똑같이 작동은 가능.\n"
      ],
      "execution_count": null,
      "outputs": [
        {
          "output_type": "stream",
          "text": [
            "None\n"
          ],
          "name": "stdout"
        }
      ]
    },
    {
      "cell_type": "markdown",
      "metadata": {
        "id": "5amW6sNYWnp7"
      },
      "source": [
        "입력과 출력은 모두 0개 이상이 가능함."
      ]
    }
  ]
}