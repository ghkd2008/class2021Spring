{
  "nbformat": 4,
  "nbformat_minor": 0,
  "metadata": {
    "colab": {
      "name": "Untitled1.ipynb",
      "provenance": [],
      "authorship_tag": "ABX9TyPXGuihDnZLhv/IGju741gc",
      "include_colab_link": true
    },
    "kernelspec": {
      "name": "python3",
      "display_name": "Python 3"
    }
  },
  "cells": [
    {
      "cell_type": "markdown",
      "metadata": {
        "id": "view-in-github",
        "colab_type": "text"
      },
      "source": [
        "<a href=\"https://colab.research.google.com/github/ghkd2008/class2021Spring/blob/main/test210308.ipynb\" target=\"_parent\"><img src=\"https://colab.research.google.com/assets/colab-badge.svg\" alt=\"Open In Colab\"/></a>"
      ]
    },
    {
      "cell_type": "code",
      "metadata": {
        "colab": {
          "base_uri": "https://localhost:8080/",
          "height": 0
        },
        "id": "BwofYM8fVsby",
        "outputId": "343bb5a2-ab47-47de-81d7-ba595f15ca5c"
      },
      "source": [
        "a=1\r\n",
        "b=1\r\n",
        "c= a+b\r\n",
        "c"
      ],
      "execution_count": 1,
      "outputs": [
        {
          "output_type": "execute_result",
          "data": {
            "text/plain": [
              "2"
            ]
          },
          "metadata": {
            "tags": []
          },
          "execution_count": 1
        }
      ]
    },
    {
      "cell_type": "markdown",
      "metadata": {
        "id": "mLBKqnWVVtn0"
      },
      "source": [
        "#우리는 파이썬을 배우게 됩니다.\r\n",
        "##파이썬을 어디서 배우나요?\r\n",
        "###Jump to python"
      ]
    },
    {
      "cell_type": "markdown",
      "metadata": {
        "id": "s1xPuga7UGeV"
      },
      "source": [
        "# 오늘 배운 것: \r\n",
        "## github  계정 만들기, login해서 repository 만들기 (이름은 class2021Spring)\r\n",
        "\r\n",
        "1.   python\r\n",
        "2.   markdown\r\n",
        "\r\n",
        "\r\n"
      ]
    }
  ]
}