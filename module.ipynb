{
  "nbformat": 4,
  "nbformat_minor": 0,
  "metadata": {
    "colab": {
      "name": "module.ipynb의 사본",
      "provenance": [],
      "include_colab_link": true
    },
    "kernelspec": {
      "name": "python3",
      "display_name": "Python 3"
    },
    "language_info": {
      "name": "python"
    }
  },
  "cells": [
    {
      "cell_type": "markdown",
      "metadata": {
        "id": "view-in-github",
        "colab_type": "text"
      },
      "source": [
        "<a href=\"https://colab.research.google.com/github/ghkd2008/class2021Spring/blob/main/module.ipynb\" target=\"_parent\"><img src=\"https://colab.research.google.com/assets/colab-badge.svg\" alt=\"Open In Colab\"/></a>"
      ]
    },
    {
      "cell_type": "markdown",
      "metadata": {
        "id": "EYqkX2_jbS5z"
      },
      "source": [
        "#Class에 대해 알아보기.\n",
        "class는 함수+변수를 함께 모듈화한 것"
      ]
    },
    {
      "cell_type": "code",
      "metadata": {
        "id": "sU1MEIdt2UEc"
      },
      "source": [
        "class cal:                    #class 이름 입력 \n",
        "  def __init__(self):         # <- 정해진 입력 방식. \n",
        "    self.result = 0           #self.뒤의 \"result\"가 변수. 2,3번째 줄은 거의 암기. \n",
        "  def add(self, n):           #self에 n만큼 더해주는 함수.실제로 입력할 때는 n만 입력\n",
        "    self.result += n\n",
        "    return self.result"
      ],
      "execution_count": null,
      "outputs": []
    },
    {
      "cell_type": "code",
      "metadata": {
        "id": "E3CGMKvOcRoZ",
        "colab": {
          "base_uri": "https://localhost:8080/"
        },
        "outputId": "91d160d8-489f-4b9b-a595-52c9d084df73"
      },
      "source": [
        "A = cal()            #A라는 객체를 만들어냄.\n",
        "A.result             # 3번째 줄까지 실행됨"
      ],
      "execution_count": null,
      "outputs": [
        {
          "output_type": "execute_result",
          "data": {
            "text/plain": [
              "0"
            ]
          },
          "metadata": {
            "tags": []
          },
          "execution_count": 2
        }
      ]
    },
    {
      "cell_type": "code",
      "metadata": {
        "id": "VwlGCFJfcql4",
        "colab": {
          "base_uri": "https://localhost:8080/"
        },
        "outputId": "24cc0893-8d85-4128-ce2b-08a030471a73"
      },
      "source": [
        "A.add(4)      #def add(self,n)이 실행되는 것.즉, 자기자신 0에 4가 더해짐."
      ],
      "execution_count": null,
      "outputs": [
        {
          "output_type": "execute_result",
          "data": {
            "text/plain": [
              "4"
            ]
          },
          "metadata": {
            "tags": []
          },
          "execution_count": 3
        }
      ]
    },
    {
      "cell_type": "code",
      "metadata": {
        "id": "F-En7fK5dJ8X",
        "colab": {
          "base_uri": "https://localhost:8080/"
        },
        "outputId": "183b2bf7-7397-4abe-af5c-77f1f958f220"
      },
      "source": [
        "A.add(6)"
      ],
      "execution_count": null,
      "outputs": [
        {
          "output_type": "execute_result",
          "data": {
            "text/plain": [
              "10"
            ]
          },
          "metadata": {
            "tags": []
          },
          "execution_count": 4
        }
      ]
    },
    {
      "cell_type": "code",
      "metadata": {
        "id": "tcoDKmtJdbkh"
      },
      "source": [
        "B = cal()"
      ],
      "execution_count": null,
      "outputs": []
    },
    {
      "cell_type": "code",
      "metadata": {
        "id": "sCoy-hYIde7R",
        "colab": {
          "base_uri": "https://localhost:8080/"
        },
        "outputId": "53bf4349-4ba1-4e0d-9c87-ed04370588c4"
      },
      "source": [
        "B.result"
      ],
      "execution_count": null,
      "outputs": [
        {
          "output_type": "execute_result",
          "data": {
            "text/plain": [
              "0"
            ]
          },
          "metadata": {
            "tags": []
          },
          "execution_count": 6
        }
      ]
    },
    {
      "cell_type": "code",
      "metadata": {
        "id": "leJxXJBodktf",
        "colab": {
          "base_uri": "https://localhost:8080/"
        },
        "outputId": "f18d8a7f-55d3-44a9-da9a-26ec5b5af73b"
      },
      "source": [
        "B.add(5)"
      ],
      "execution_count": null,
      "outputs": [
        {
          "output_type": "execute_result",
          "data": {
            "text/plain": [
              "5"
            ]
          },
          "metadata": {
            "tags": []
          },
          "execution_count": 7
        }
      ]
    },
    {
      "cell_type": "markdown",
      "metadata": {
        "id": "MVhZvhwgelSp"
      },
      "source": [
        "#module이란\n",
        "class와 함수들을 여러가지 모아놓은 것.\n",
        "모듈에는 class와 function이 들어있음.\n",
        "\n",
        "모듈은 함수나 변수, 클래스를 모아놓은 파이썬 파일 ~~.py파일\n",
        "\n",
        "이러한 파일들을 여러가지 모아 한 폴더 속에 넣으면 패키지.\n",
        "\n",
        "모듈은 파일, 패키지는 그 파일들을 묶어놓은 것."
      ]
    },
    {
      "cell_type": "code",
      "metadata": {
        "id": "Idf00-6Zepnv"
      },
      "source": [
        "class cal:           \n",
        "  def __init__(self):       \n",
        "    self.result = 0         \n",
        "  def add(self, n):           \n",
        "    self.result += n\n",
        "    return self.result"
      ],
      "execution_count": null,
      "outputs": []
    },
    {
      "cell_type": "code",
      "metadata": {
        "id": "qdkEhqule0Oi"
      },
      "source": [
        "def func(a,b,c):\n",
        "  y=a*x+b\n",
        "  return y"
      ],
      "execution_count": null,
      "outputs": []
    }
  ]
}