{
  "nbformat": 4,
  "nbformat_minor": 0,
  "metadata": {
    "colab": {
      "name": "import.ipynb의 사본",
      "provenance": [],
      "include_colab_link": true
    },
    "kernelspec": {
      "name": "python3",
      "display_name": "Python 3"
    },
    "language_info": {
      "name": "python"
    }
  },
  "cells": [
    {
      "cell_type": "markdown",
      "metadata": {
        "id": "view-in-github",
        "colab_type": "text"
      },
      "source": [
        "<a href=\"https://colab.research.google.com/github/ghkd2008/class2021Spring/blob/main/import.ipynb\" target=\"_parent\"><img src=\"https://colab.research.google.com/assets/colab-badge.svg\" alt=\"Open In Colab\"/></a>"
      ]
    },
    {
      "cell_type": "markdown",
      "metadata": {
        "id": "RGscejUKgHEh"
      },
      "source": [
        "파이썬에서 가장 유명한 패키지 numpy.\n"
      ]
    },
    {
      "cell_type": "code",
      "metadata": {
        "id": "JXicrkYOzPRo",
        "colab": {
          "base_uri": "https://localhost:8080/"
        },
        "outputId": "4c535888-76e8-4ac5-d866-ecd30f0a7d98"
      },
      "source": [
        "import numpy as np\n",
        "n = np.random.randn(100)   #정규분포를 갖는 100개의 랜덤한 숫자.\n",
        "n"
      ],
      "execution_count": null,
      "outputs": [
        {
          "output_type": "execute_result",
          "data": {
            "text/plain": [
              "array([-1.40777645,  0.86326897,  0.90707264, -0.14872089,  0.26273805,\n",
              "       -0.36150765, -0.27398217,  0.03120089, -0.09007401, -1.05671003,\n",
              "        0.15958379, -1.1905456 , -0.71423201,  0.4979452 ,  0.5437874 ,\n",
              "       -0.84957193,  1.43673981,  0.10742135, -1.24984987,  1.42648328,\n",
              "       -0.43285516,  0.48299247, -0.91245886,  0.73224661, -2.27127396,\n",
              "        0.73531426,  0.25529024,  2.24178412, -0.03363953, -0.32991548,\n",
              "       -0.93350643, -0.64863429,  1.22358451,  0.73679065,  0.47173078,\n",
              "       -1.02964981,  0.21910312,  0.96273336, -2.05316119,  0.38404388,\n",
              "        0.97835765,  0.03347686, -0.7211679 ,  0.64859793, -0.96170232,\n",
              "       -0.03960508, -0.30373524,  1.04459406,  1.80404349,  1.56883868,\n",
              "       -1.19828245, -0.05161464, -0.2956979 ,  0.68191957,  0.16901868,\n",
              "        0.12356039,  0.57876568,  1.42004257,  1.86014464,  1.12806969,\n",
              "        1.99494763,  0.95680675,  1.4221085 , -0.34281274, -0.53499631,\n",
              "       -0.8366897 ,  0.16957316, -0.27200331,  1.72551469, -1.14143761,\n",
              "        1.88156902, -1.18622176,  1.82123159,  0.09402718, -1.68460903,\n",
              "       -0.65677717,  1.2633162 , -0.08009008, -0.56109828, -0.4185284 ,\n",
              "       -0.07220013,  0.81243938, -0.12242189,  0.6516766 , -1.06756288,\n",
              "        1.17277744,  0.10432551,  0.11419359, -0.30243501, -0.67408204,\n",
              "        1.42864812, -0.68910774, -0.22543393,  0.67769099,  1.10213399,\n",
              "        1.24198493,  0.35317555,  1.4471848 , -0.65623743,  0.10448169])"
            ]
          },
          "metadata": {
            "tags": []
          },
          "execution_count": 4
        }
      ]
    },
    {
      "cell_type": "markdown",
      "metadata": {
        "id": "zMFWvYjegWkg"
      },
      "source": [
        "matplotlib이라는 패키지 안에 pyplot이라는 모듈, 그리고 그 모듈안의 hist라는 function을 불러옴.\n",
        "\n",
        "패키지 하위에 바로 모듈이 아니라 서브 패키지가 있을 수도 있음."
      ]
    },
    {
      "cell_type": "code",
      "metadata": {
        "id": "oKT4vn4MwyLA",
        "colab": {
          "base_uri": "https://localhost:8080/",
          "height": 268
        },
        "outputId": "220778f1-6c4f-4d89-b994-dea3034ea444"
      },
      "source": [
        "import matplotlib  #패키지를 통째로 불러옴.\n",
        "matplotlib.pyplot.hist(n)   #사용방법\n",
        "\n",
        "import matplotlib.pyplot  #패키지안의 pyplot모듈만 불러옴\n",
        "matplotlib.pyplot.hist(n)\n",
        "\n",
        "from matplotlib import pyplot  #패키지안의 pyplot모듈만 불러옴. 이 방식은 앞에 패키지명 안써도됨\n",
        "pyplot.hist(n)\n",
        "\n",
        "from matplotlib.pyplot import hist #패키지.모듈안의 hist함수를 불러옴.\n",
        "hist(n)"
      ],
      "execution_count": null,
      "outputs": [
        {
          "output_type": "display_data",
          "data": {
            "image/png": "[encoded data removed]",
            "text/plain": [
              "<Figure size 432x288 with 1 Axes>"
            ]
          },
          "metadata": {
            "tags": [],
            "needs_background": "light"
          }
        }
      ]
    }
  ]
}